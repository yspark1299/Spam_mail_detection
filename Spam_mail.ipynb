{
 "cells": [
  {
   "cell_type": "code",
   "execution_count": 25,
   "metadata": {
    "_cell_guid": "b1076dfc-b9ad-4769-8c92-a6c4dae69d19",
    "_uuid": "8f2839f25d086af736a60e9eeb907d3b93b6e0e5",
    "execution": {
     "iopub.execute_input": "2021-12-09T18:27:28.075310Z",
     "iopub.status.busy": "2021-12-09T18:27:28.074799Z",
     "iopub.status.idle": "2021-12-09T18:27:28.088468Z",
     "shell.execute_reply": "2021-12-09T18:27:28.087590Z",
     "shell.execute_reply.started": "2021-12-09T18:27:28.075269Z"
    }
   },
   "outputs": [],
   "source": [
    "# This Python 3 environment comes with many helpful analytics libraries installed\n",
    "# It is defined by the kaggle/python Docker image: https://github.com/kaggle/docker-python\n",
    "# For example, here's several helpful packages to load\n",
    "\n",
    "import numpy as np # linear algebra\n",
    "import pandas as pd # data processing, CSV file I/O (e.g. pd.read_csv)\n",
    "\n",
    "# Input data files are available in the read-only \"../input/\" directory\n",
    "# For example, running this (by clicking run or pressing Shift+Enter) will list all files under the input directory\n",
    "\n",
    "import os\n",
    "for dirname, _, filenames in os.walk('/kaggle/input'):\n",
    "    for filename in filenames:\n",
    "        print(os.path.join(dirname, filename))\n",
    "\n",
    "# You can write up to 20GB to the current directory (/kaggle/working/) that gets preserved as output when you create a version using \"Save & Run All\" \n",
    "# You can also write temporary files to /kaggle/temp/, but they won't be saved outside of the current session"
   ]
  },
  {
   "cell_type": "code",
   "execution_count": 26,
   "metadata": {
    "execution": {
     "iopub.execute_input": "2021-12-09T18:27:28.090761Z",
     "iopub.status.busy": "2021-12-09T18:27:28.090523Z",
     "iopub.status.idle": "2021-12-09T18:27:28.102573Z",
     "shell.execute_reply": "2021-12-09T18:27:28.101971Z",
     "shell.execute_reply.started": "2021-12-09T18:27:28.090732Z"
    }
   },
   "outputs": [],
   "source": [
    "#additional \n",
    "import nltk\n",
    "import re\n",
    "import string\n",
    "from nltk.corpus import stopwords\n",
    "from nltk import WordNetLemmatizer\n",
    "from nltk.tokenize import word_tokenize"
   ]
  },
  {
   "cell_type": "code",
   "execution_count": 27,
   "metadata": {
    "execution": {
     "iopub.execute_input": "2021-12-09T18:27:28.104605Z",
     "iopub.status.busy": "2021-12-09T18:27:28.103667Z",
     "iopub.status.idle": "2021-12-09T18:27:28.184165Z",
     "shell.execute_reply": "2021-12-09T18:27:28.183419Z",
     "shell.execute_reply.started": "2021-12-09T18:27:28.104510Z"
    }
   },
   "outputs": [],
   "source": [
    "train=pd.read_csv(\"../input/korea-university-cose362-2021-fall/train.csv\")\n",
    "train.head(10)"
   ]
  },
  {
   "cell_type": "code",
   "execution_count": 28,
   "metadata": {
    "execution": {
     "iopub.execute_input": "2021-12-09T18:27:28.185755Z",
     "iopub.status.busy": "2021-12-09T18:27:28.185498Z",
     "iopub.status.idle": "2021-12-09T18:27:28.191905Z",
     "shell.execute_reply": "2021-12-09T18:27:28.190848Z",
     "shell.execute_reply.started": "2021-12-09T18:27:28.185723Z"
    }
   },
   "outputs": [],
   "source": [
    "print (train.shape) #the train.csv has 3620 row and 3 cells (3620, 3)\n",
    "print (train.columns) #Index(['id', 'label', 'mail'], dtype='object')"
   ]
  },
  {
   "cell_type": "code",
   "execution_count": 29,
   "metadata": {
    "execution": {
     "iopub.execute_input": "2021-12-09T18:27:28.194212Z",
     "iopub.status.busy": "2021-12-09T18:27:28.193968Z",
     "iopub.status.idle": "2021-12-09T18:27:28.232845Z",
     "shell.execute_reply": "2021-12-09T18:27:28.232161Z",
     "shell.execute_reply.started": "2021-12-09T18:27:28.194181Z"
    }
   },
   "outputs": [],
   "source": [
    "test=pd.read_csv(\"../input/korea-university-cose362-2021-fall/test.csv\")\n",
    "test.head()"
   ]
  },
  {
   "cell_type": "code",
   "execution_count": 30,
   "metadata": {
    "execution": {
     "iopub.execute_input": "2021-12-09T18:27:28.234541Z",
     "iopub.status.busy": "2021-12-09T18:27:28.234207Z",
     "iopub.status.idle": "2021-12-09T18:27:28.239848Z",
     "shell.execute_reply": "2021-12-09T18:27:28.239201Z",
     "shell.execute_reply.started": "2021-12-09T18:27:28.234508Z"
    }
   },
   "outputs": [],
   "source": [
    "print (test.shape) #the train.csv has 3620 row and 3 cells (1151, 2)\n",
    "print (test.columns) #Index(['id', 'mail'], dtype='object')"
   ]
  },
  {
   "cell_type": "code",
   "execution_count": 31,
   "metadata": {
    "execution": {
     "iopub.execute_input": "2021-12-09T18:27:28.241427Z",
     "iopub.status.busy": "2021-12-09T18:27:28.241206Z",
     "iopub.status.idle": "2021-12-09T18:27:28.259580Z",
     "shell.execute_reply": "2021-12-09T18:27:28.258631Z",
     "shell.execute_reply.started": "2021-12-09T18:27:28.241402Z"
    }
   },
   "outputs": [],
   "source": [
    "train=train[['id','label','mail']]\n",
    "train.head()"
   ]
  },
  {
   "cell_type": "code",
   "execution_count": 32,
   "metadata": {
    "execution": {
     "iopub.execute_input": "2021-12-09T18:27:28.261677Z",
     "iopub.status.busy": "2021-12-09T18:27:28.260989Z",
     "iopub.status.idle": "2021-12-09T18:27:28.271761Z",
     "shell.execute_reply": "2021-12-09T18:27:28.271061Z",
     "shell.execute_reply.started": "2021-12-09T18:27:28.261646Z"
    }
   },
   "outputs": [],
   "source": [
    "train.isnull().sum"
   ]
  },
  {
   "cell_type": "code",
   "execution_count": 33,
   "metadata": {
    "execution": {
     "iopub.execute_input": "2021-12-09T18:27:28.274524Z",
     "iopub.status.busy": "2021-12-09T18:27:28.274283Z",
     "iopub.status.idle": "2021-12-09T18:27:28.289808Z",
     "shell.execute_reply": "2021-12-09T18:27:28.289146Z",
     "shell.execute_reply.started": "2021-12-09T18:27:28.274495Z"
    }
   },
   "outputs": [],
   "source": [
    "stopwards=set(stopwords.words(['danish', 'dutch', 'english', 'finnish', 'french', 'german', 'hungarian', 'italian', 'norwegian', 'portuguese', 'russian', 'spanish', 'swedish', 'turkish']))\n",
    "def filter_mail(mail):\n",
    "    #change to lower case\n",
    "    #delete punctuation, URL, special characte, stopwords\n",
    "    #return clean textwords\n",
    "    mail=mail.lower()\n",
    "    mail=re.sub(\"@\\w+(?:[-']\\w+)*\",\"\" \"\",mail)\n",
    "    mail=re.sub(\"[#]']\",\" \",mail)\n",
    "    mail=re.sub(\"http\\S+\",\" \",mail)\n",
    "    mail=re.sub(r'^0-9a-zA-Z',' ',mail)\n",
    "    mail=re.sub(r'\\s+',' ',mail)\n",
    "    nopunc=[char for char in mail if char not in string.punctuation]\n",
    "    nopunc=''.join(nopunc)\n",
    "    filtered_words=[word for word in nopunc.split() if word.lower() not in stopwords.words(['danish', 'dutch', 'english', 'finnish', 'french', 'german', 'hungarian', 'italian', 'norwegian', 'portuguese', 'russian', 'spanish', 'swedish', 'turkish'])]\n",
    "    return filtered_words"
   ]
  },
  {
   "cell_type": "code",
   "execution_count": 34,
   "metadata": {
    "execution": {
     "iopub.execute_input": "2021-12-09T18:27:28.292085Z",
     "iopub.status.busy": "2021-12-09T18:27:28.291063Z",
     "iopub.status.idle": "2021-12-09T18:27:32.142338Z",
     "shell.execute_reply": "2021-12-09T18:27:32.141507Z",
     "shell.execute_reply.started": "2021-12-09T18:27:28.292036Z"
    }
   },
   "outputs": [],
   "source": [
    "train['mail'].head().apply(filter_mail)\n",
    "test['mail'].head().apply(filter_mail)\n",
    "train.head()"
   ]
  },
  {
   "cell_type": "code",
   "execution_count": 35,
   "metadata": {
    "execution": {
     "iopub.execute_input": "2021-12-09T18:27:32.143978Z",
     "iopub.status.busy": "2021-12-09T18:27:32.143697Z",
     "iopub.status.idle": "2021-12-09T18:27:32.148036Z",
     "shell.execute_reply": "2021-12-09T18:27:32.147395Z",
     "shell.execute_reply.started": "2021-12-09T18:27:32.143943Z"
    }
   },
   "outputs": [],
   "source": [
    "X=train['mail']\n",
    "y=train['label']"
   ]
  },
  {
   "cell_type": "code",
   "execution_count": 36,
   "metadata": {
    "execution": {
     "iopub.execute_input": "2021-12-09T18:27:32.150287Z",
     "iopub.status.busy": "2021-12-09T18:27:32.149772Z",
     "iopub.status.idle": "2021-12-09T18:27:32.163160Z",
     "shell.execute_reply": "2021-12-09T18:27:32.162189Z",
     "shell.execute_reply.started": "2021-12-09T18:27:32.150206Z"
    }
   },
   "outputs": [],
   "source": [
    "from sklearn.pipeline import Pipeline\n",
    "from sklearn.metrics import classification_report\n",
    "from sklearn.feature_extraction.text import CountVectorizer, TfidfVectorizer, TfidfTransformer\n",
    "from sklearn.model_selection import train_test_split, cross_val_score\n",
    "from sklearn.metrics import confusion_matrix\n",
    "\n",
    "def classification(model,X, y):\n",
    "    #split\n",
    "    x_train, x_test, y_train, y_test = train_test_split(X, y, test_size=0.1, random_state=0, shuffle=True, stratify=y)\n",
    "    #train\n",
    "    pip_model = Pipeline([('vect', CountVectorizer()),('tfidf', TfidfTransformer()),('clf', model)])\n",
    "    pip_model.fit(x_train, y_train)\n",
    "    \n",
    "    print('Accuracy:', pip_model.score(x_test, y_test)*100)\n",
    "    y_pred = pip_model.predict(x_test)\n",
    "    print(classification_report(y_test, y_pred))\n",
    "    print (confusion_matrix(y_test, y_pred))\n",
    "    "
   ]
  },
  {
   "cell_type": "code",
   "execution_count": 37,
   "metadata": {
    "execution": {
     "iopub.execute_input": "2021-12-09T18:27:32.166310Z",
     "iopub.status.busy": "2021-12-09T18:27:32.165447Z",
     "iopub.status.idle": "2021-12-09T18:27:34.158960Z",
     "shell.execute_reply": "2021-12-09T18:27:34.158123Z",
     "shell.execute_reply.started": "2021-12-09T18:27:32.166263Z"
    }
   },
   "outputs": [],
   "source": [
    "from sklearn.linear_model import LogisticRegression\n",
    "model = LogisticRegression()\n",
    "classification(model, X, y)"
   ]
  },
  {
   "cell_type": "code",
   "execution_count": 38,
   "metadata": {
    "execution": {
     "iopub.execute_input": "2021-12-09T18:27:34.161468Z",
     "iopub.status.busy": "2021-12-09T18:27:34.160306Z",
     "iopub.status.idle": "2021-12-09T18:27:35.122482Z",
     "shell.execute_reply": "2021-12-09T18:27:35.121611Z",
     "shell.execute_reply.started": "2021-12-09T18:27:34.161417Z"
    }
   },
   "outputs": [],
   "source": [
    "from sklearn.naive_bayes import MultinomialNB\n",
    "model = MultinomialNB()\n",
    "classification(model, X, y)"
   ]
  },
  {
   "cell_type": "code",
   "execution_count": 39,
   "metadata": {
    "execution": {
     "iopub.execute_input": "2021-12-09T18:27:35.124517Z",
     "iopub.status.busy": "2021-12-09T18:27:35.124088Z",
     "iopub.status.idle": "2021-12-09T18:27:42.688520Z",
     "shell.execute_reply": "2021-12-09T18:27:42.687602Z",
     "shell.execute_reply.started": "2021-12-09T18:27:35.124472Z"
    }
   },
   "outputs": [],
   "source": [
    "from sklearn.svm import SVC\n",
    "model = SVC(C=3)\n",
    "classification(model, X, y)"
   ]
  },
  {
   "cell_type": "code",
   "execution_count": 40,
   "metadata": {
    "execution": {
     "iopub.execute_input": "2021-12-09T18:27:42.690441Z",
     "iopub.status.busy": "2021-12-09T18:27:42.690031Z",
     "iopub.status.idle": "2021-12-09T18:27:45.923327Z",
     "shell.execute_reply": "2021-12-09T18:27:45.922470Z",
     "shell.execute_reply.started": "2021-12-09T18:27:42.690395Z"
    }
   },
   "outputs": [],
   "source": [
    "from sklearn.ensemble import RandomForestClassifier\n",
    "model = RandomForestClassifier()\n",
    "classification(model, X, y)"
   ]
  },
  {
   "cell_type": "code",
   "execution_count": 41,
   "metadata": {
    "execution": {
     "iopub.execute_input": "2021-12-09T18:27:45.924700Z",
     "iopub.status.busy": "2021-12-09T18:27:45.924475Z",
     "iopub.status.idle": "2021-12-09T18:29:26.268748Z",
     "shell.execute_reply": "2021-12-09T18:29:26.267854Z",
     "shell.execute_reply.started": "2021-12-09T18:27:45.924670Z"
    }
   },
   "outputs": [],
   "source": [
    "from sklearn.neural_network import MLPClassifier\n",
    "model=MLPClassifier()\n",
    "classification(model, X, y)"
   ]
  },
  {
   "cell_type": "code",
   "execution_count": 42,
   "metadata": {
    "execution": {
     "iopub.execute_input": "2021-12-09T18:29:26.270687Z",
     "iopub.status.busy": "2021-12-09T18:29:26.270197Z",
     "iopub.status.idle": "2021-12-09T18:29:27.311834Z",
     "shell.execute_reply": "2021-12-09T18:29:27.311142Z",
     "shell.execute_reply.started": "2021-12-09T18:29:26.270645Z"
    }
   },
   "outputs": [],
   "source": [
    "from sklearn.linear_model import SGDClassifier\n",
    "model=SGDClassifier()\n",
    "classification(model, X, y)"
   ]
  },
  {
   "cell_type": "code",
   "execution_count": 43,
   "metadata": {
    "execution": {
     "iopub.execute_input": "2021-12-09T18:29:27.313518Z",
     "iopub.status.busy": "2021-12-09T18:29:27.313141Z",
     "iopub.status.idle": "2021-12-09T18:29:28.317450Z",
     "shell.execute_reply": "2021-12-09T18:29:28.316832Z",
     "shell.execute_reply.started": "2021-12-09T18:29:27.313462Z"
    }
   },
   "outputs": [],
   "source": [
    "from sklearn.linear_model import SGDClassifier\n",
    "model=SGDClassifier(loss=\"hinge\", penalty=\"l2\", max_iter=100)\n",
    "classification(model, X, y)"
   ]
  },
  {
   "cell_type": "markdown",
   "metadata": {},
   "source": [
    "Find the max iteration"
   ]
  },
  {
   "cell_type": "markdown",
   "metadata": {},
   "source": [
    "**Find the maxiteration when using SGDClassifierr**"
   ]
  },
  {
   "cell_type": "code",
   "execution_count": 44,
   "metadata": {
    "execution": {
     "iopub.execute_input": "2021-12-09T18:29:28.320627Z",
     "iopub.status.busy": "2021-12-09T18:29:28.320099Z",
     "iopub.status.idle": "2021-12-09T18:29:28.330993Z",
     "shell.execute_reply": "2021-12-09T18:29:28.330405Z",
     "shell.execute_reply.started": "2021-12-09T18:29:28.320590Z"
    }
   },
   "outputs": [],
   "source": [
    "train_data = train.drop('label', axis=1)\n",
    "target = train['label']\n",
    "train_data.head()"
   ]
  },
  {
   "cell_type": "code",
   "execution_count": 45,
   "metadata": {
    "execution": {
     "iopub.execute_input": "2021-12-09T18:29:28.332429Z",
     "iopub.status.busy": "2021-12-09T18:29:28.331966Z",
     "iopub.status.idle": "2021-12-09T18:29:28.344011Z",
     "shell.execute_reply": "2021-12-09T18:29:28.343303Z",
     "shell.execute_reply.started": "2021-12-09T18:29:28.332394Z"
    }
   },
   "outputs": [],
   "source": [
    "train_data.shape"
   ]
  },
  {
   "cell_type": "code",
   "execution_count": null,
   "metadata": {
    "execution": {
     "iopub.execute_input": "2021-12-09T18:32:33.655898Z",
     "iopub.status.busy": "2021-12-09T18:32:33.655614Z"
    }
   },
   "outputs": [],
   "source": [
    "from sklearn.neural_network import MLPClassifier\n",
    "model = MLPClassifier()\n",
    "pip_model = Pipeline([('vect', CountVectorizer()),('tfidf', TfidfTransformer()),('clf', model)])\n",
    "pip_model.fit(X, y)\n",
    "    \n",
    "test_prediction=pip_model.predict(test['mail'])\n",
    "\n",
    "print(test_prediction)\n",
    "submission=pd.DataFrame({\"id\":test[\"id\"],\"label\":test_prediction})\n",
    "submission.to_csv('submission.csv',index=False)\n",
    "submission =pd.read_csv('submission.csv')\n"
   ]
  },
  {
   "cell_type": "markdown",
   "metadata": {},
   "source": [
    "**Visualization**"
   ]
  },
  {
   "cell_type": "code",
   "execution_count": 47,
   "metadata": {
    "execution": {
     "iopub.execute_input": "2021-12-09T18:31:44.051183Z",
     "iopub.status.busy": "2021-12-09T18:31:44.040375Z",
     "iopub.status.idle": "2021-12-09T18:31:44.326323Z",
     "shell.execute_reply": "2021-12-09T18:31:44.325513Z",
     "shell.execute_reply.started": "2021-12-09T18:31:44.051098Z"
    }
   },
   "outputs": [],
   "source": [
    "import matplotlib.pyplot as plt\n",
    "print(\"Train.csv Data\")\n",
    "train['label'].value_counts().plot(kind='bar')\n",
    "plt.xlabel('0:Non Spam 1:Spam')\n",
    "plt.ylabel('Number of mails')\n",
    "print(train.label.value_counts())"
   ]
  },
  {
   "cell_type": "code",
   "execution_count": 48,
   "metadata": {
    "execution": {
     "iopub.execute_input": "2021-12-09T18:31:44.327595Z",
     "iopub.status.busy": "2021-12-09T18:31:44.327392Z",
     "iopub.status.idle": "2021-12-09T18:31:44.669651Z",
     "shell.execute_reply": "2021-12-09T18:31:44.668762Z",
     "shell.execute_reply.started": "2021-12-09T18:31:44.327569Z"
    }
   },
   "outputs": [],
   "source": [
    "import matplotlib.pyplot as plt\n",
    "import seaborn as sns\n",
    "print(\"Test.csv Data\")\n",
    "submission['label'].value_counts().plot(kind='bar')\n",
    "plt.xlabel('0:Non Spam 1:Spam')\n",
    "plt.ylabel('Number of mails')\n",
    "print(submission.label.value_counts())"
   ]
  },
  {
   "cell_type": "code",
   "execution_count": 51,
   "metadata": {
    "execution": {
     "iopub.execute_input": "2021-12-09T18:32:19.523475Z",
     "iopub.status.busy": "2021-12-09T18:32:19.522494Z",
     "iopub.status.idle": "2021-12-09T18:32:19.613200Z",
     "shell.execute_reply": "2021-12-09T18:32:19.611645Z",
     "shell.execute_reply.started": "2021-12-09T18:32:19.523394Z"
    }
   },
   "outputs": [],
   "source": [
    "from wordcloud import WordCloud\n",
    "non_spam=test['mail'][submission['label']==0]\n",
    "cloud = WordCloud(width=500,height=100,background_color='black',max_words=30).generate(' '.join(non_spam))\n",
    "plt.figure(figsize=(10,8))\n",
    "plt.imshow(cloud)\n",
    "plt.axis('off')\n",
    "plt.show()"
   ]
  },
  {
   "cell_type": "code",
   "execution_count": 50,
   "metadata": {
    "execution": {
     "iopub.execute_input": "2021-12-09T18:31:45.670375Z",
     "iopub.status.busy": "2021-12-09T18:31:45.670010Z",
     "iopub.status.idle": "2021-12-09T18:31:46.481358Z",
     "shell.execute_reply": "2021-12-09T18:31:46.480234Z",
     "shell.execute_reply.started": "2021-12-09T18:31:45.670329Z"
    }
   },
   "outputs": [],
   "source": [
    "from wordcloud import WordCloud\n",
    "spam=test['mail'][submission['label']==1]\n",
    "cloud=WordCloud(width=500,height=100,background_color='black',max_words=30).generate(' '.join(spam))\n",
    "plt.figure(figsize=(10,8))\n",
    "plt.imshow(cloud)\n",
    "plt.axis('off')\n",
    "plt.show()"
   ]
  }
 ],
 "metadata": {
  "kernelspec": {
   "display_name": "Python 3",
   "language": "python",
   "name": "python3"
  },
  "language_info": {
   "codemirror_mode": {
    "name": "ipython",
    "version": 3
   },
   "file_extension": ".py",
   "mimetype": "text/x-python",
   "name": "python",
   "nbconvert_exporter": "python",
   "pygments_lexer": "ipython3",
   "version": "3.8.8"
  }
 },
 "nbformat": 4,
 "nbformat_minor": 4
}
